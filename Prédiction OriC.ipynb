{
 "cells": [
  {
   "cell_type": "code",
   "execution_count": null,
   "id": "47f74db5",
   "metadata": {},
   "outputs": [],
   "source": [
    "#Etape 1 : Charger la séquence à partir du fichier FASTA\n",
    "def lire_sequence_fasta(nom_fichier):\n",
    "    \"\"\"Lit une séquence FASTA (ignore la première ligne de description)\"\"\"\n",
    "    sequence = \"\"\n",
    "    with open(nom_fichier, 'r') as fichier:\n",
    "        #lit la première ligne et l'ignore\n",
    "        fichier.readline()\n",
    "        ligne = fichier.readline()\n",
    "        while ligne:\n",
    "            sequence += ligne.strip()  #enlever les espaces et les sauts de ligne\n",
    "            ligne = fichier.readline()  #lire la ligne suivante\n",
    "    return sequence.upper()"
   ]
  },
  {
   "cell_type": "code",
   "execution_count": null,
   "id": "ea36ea0b",
   "metadata": {},
   "outputs": [],
   "source": [
    "#Etape 2 : Rechercher les régions riches en A et T\n",
    "def calcul_régions_AT(sequence):\n",
    "    \"\"\"Renvoie les régions riches en A/T en comparant le nombre de G/C au nombre de A/T dans une région\"\"\"\n",
    "    taille_région = 250\n",
    "    régions_dintérêt = []\n",
    "    \n",
    "    for i in range(0, len(sequence) - taille_région + 1, taille_région):\n",
    "        fenetre = sequence[i:i+taille_région]\n",
    "        cpt_AT = 0\n",
    "        cpt_CG = 0\n",
    "        for base in fenetre:\n",
    "            if base == 'A' or base == 'T':\n",
    "                cpt_AT += 1\n",
    "            elif base == 'C' or base == 'G':\n",
    "                cpt_CG += 1\n",
    "        if cpt_AT > cpt_CG:\n",
    "            régions_dintérêt.append((i, i + taille_région, fenetre))\n",
    "\n",
    "    return régions_dintérêt"
   ]
  }
 ],
 "metadata": {
  "language_info": {
   "name": "python"
  }
 },
 "nbformat": 4,
 "nbformat_minor": 5
}
