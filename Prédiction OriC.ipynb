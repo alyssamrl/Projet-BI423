{
 "cells": [
  {
   "cell_type": "code",
   "execution_count": null,
   "id": "47f74db5",
   "metadata": {},
   "outputs": [],
   "source": [
    "#Etape 1 : Charger la séquence à partir du fichier FASTA\n",
    "def lire_sequence_fasta(nom_fichier):\n",
    "    \"\"\"Lit une séquence FASTA (ignore la première ligne de description)\"\"\"\n",
    "    sequence = \"\"\n",
    "    with open(nom_fichier, 'r') as fichier:\n",
    "        #lit la première ligne et l'ignore\n",
    "        fichier.readline()\n",
    "        ligne = fichier.readline()\n",
    "        while ligne:\n",
    "            sequence += ligne.strip()  #enlever les espaces et les sauts de ligne\n",
    "            ligne = fichier.readline()  #lire la ligne suivante\n",
    "    return sequence.upper()"
   ]
  },
  {
   "cell_type": "code",
   "execution_count": 23,
   "id": "ea36ea0b",
   "metadata": {},
   "outputs": [
    {
     "name": "stdout",
     "output_type": "stream",
     "text": [
      "[(0, 300, 'CAGATTGTCGATCAGATAATTTTCCATAGGATTTTCTTATGCGGATTGATGATTCATTCTATTTTAGCCTTCTTTTTTAATGAATCAAAAGTGAGTTAGGCTTTTTATTGAATGATTATTGCATGTGTGTCGGTTTTTGTTGCTTAATCATAAGCAACAGGACGCAGGAGTATAAAAAATGAAAACCGCTTACATTGCCAAACAACGTCAAATTAGCTTCGTGAAATCTCACTTTTCTCGTCAACTGGAAGAACGTCTGGGGCTGATCGAAGTCCAGGCGCCGATTCTTAGCCGTGTGGG')]\n"
     ]
    }
   ],
   "source": [
    "#Etape 2 : Rechercher les régions riches en A et T\n",
    "def calcul_régions_AT(sequence):\n",
    "    \"\"\"Renvoie les régions riches en A/T en comparant le nombre de G/C au nombre de A/T dans une région\"\"\"\n",
    "    taille_région = 300\n",
    "    régions_dintérêt = []\n",
    "    \n",
    "    for i in range(0, len(sequence) - taille_région + 1, taille_région):\n",
    "        region = sequence[i:i+taille_région]\n",
    "        cpt_AT = 0\n",
    "        cpt_CG = 0\n",
    "        for base in region:\n",
    "            if base == 'A' or base == 'T':\n",
    "                cpt_AT += 1\n",
    "            elif base == 'C' or base == 'G':\n",
    "                cpt_CG += 1\n",
    "        if cpt_AT >= cpt_CG:\n",
    "            régions_dintérêt.append((i, i + taille_région, region)) #récupère les positions de début et de fin de région + la région\n",
    "\n",
    "    return régions_dintérêt\n",
    "\n",
    "seq = \"CAGATTGTCGATCAGATAATTTTCCATAGGATTTTCTTATGCGGATTGATGATTCATTCTATTTTAGCCTTCTTTTTTAATGAATCAAAAGTGAGTTAGGCTTTTTATTGAATGATTATTGCATGTGTGTCGGTTTTTGTTGCTTAATCATAAGCAACAGGACGCAGGAGTATAAAAAATGAAAACCGCTTACATTGCCAAACAACGTCAAATTAGCTTCGTGAAATCTCACTTTTCTCGTCAACTGGAAGAACGTCTGGGGCTGATCGAAGTCCAGGCGCCGATTCTTAGCCGTGTGGGGGATGGCACGCAGGATAACTTGTCGGGCTGTGAAAAAGCGGTGCAGGTAAAAGTGAAAGCTCTGCCTGATGCCCAGTTCGAAGTGGTTCATTCACTGGCGAAGTGGAAACGTCAGACCTTAGGGCAACACGACTTCAGCGCGGGCGAAGGGCTGTACACGCACATGAAAGCCCTTCGCCCCGATGAAGACCGTCTTTCTCCGTTGCACTCGGTCTATGTTGACCAGTGGGACTGGGAACGCGTAATGGGCGACGGTGAGCGTCAATTCTCGACTCTGAAAAGCACGGTAGAGGCGATCTGGGCGGGAATTAAAGCAACCGAAGCTGCGGTTAGCGAAGAGTTTGGCCTGGCACCGTTCCTGCCGGATCAGATCCACTTCGTACACAGCCAGGAGTTACTGTCTCGTTATCCGGATCTTGATGCCAAAGGGCGTGAGCGGGCGATAGCGAAAGATCTTGGCGCGGTATTCCTTGTCGGGATTGGCGGCAAGCTGAGCGATGGTCATCGCCACGACGTGCGCGCACCGGATTATGATGACTGGAGCACCCCGTCAGAGCTGGGCCATGCGGGTCTGAACGGCGATATTCTGGTGTGGAACCCGGTACTGGAAGATGCGTTTGAGCTTTCCTCCATGGGGATCCGTGTAGATGCCGACACGCTGAAGCATCAACTGGCGCTGACCGGTGACGAAGATCGCCTGG\"\n",
    "print(calcul_régions_AT(seq))"
   ]
  },
  {
   "cell_type": "code",
   "execution_count": null,
   "id": "fe7b2a75",
   "metadata": {},
   "outputs": [
    {
     "data": {
      "text/plain": [
       "[]"
      ]
     },
     "execution_count": 28,
     "metadata": {},
     "output_type": "execute_result"
    }
   ],
   "source": [
    "#Etape 3 : Détecter les motifs DnaA\n",
    "import re\n",
    "\n",
    "def motifs_consensus(seq):\n",
    "    motifs = [\n",
    "        r\"TTATCCACA\", r\"TTGTCCACA\", r\"TTATGCACA\", r\"TTATCCAGA\", r\"TTATTCACA\",\n",
    "        r\"TTATCCAAA\", r\"TCATTCACA\", r\"TCATTGACA\", r\"TTGTGCACA\", r\"ATATTTAAA\"\n",
    "    ]\n",
    "    résultats = []\n",
    "    for motif in motifs:\n",
    "        for match in re.finditer(motif, seq): #extraire et localiser les motifs\n",
    "            position_globale = match.start() + seq  #calcul de la position dans la séquence globale\n",
    "            motif_trouvé = match.group() #motif trouvé dans la région\n",
    "            résultats.append((position_globale, motif_trouvé))\n",
    "\n",
    "    return résultats\n",
    "\n",
    "regions_dinteret = \"CAGATTGTCGATCAGATAATTTTCCATAGGATTTTCTTATGCGGATTGATGATTCATTCTATTTTAGCCTTCTTTTTTAATGAATCAAAAGTGAGTTAGGCTTTTTATTGAATGATTATTGCATGTGTGTCGGTTTTTGTTGCTTAATCATAAGCAACAGGACGCAGGAGTATAAAAAATGAAAACCGCTTACATTGCCAAACAACGTCAAATTAGCTTCGTGAAATCTCACTTTTCTCGTCAACTGGAAGAACGTCTGGGGCTGATCGAAGTCCAGGCGCCGATTCTTAGCCGTGTGGGGGATGGCACGCAGGATAACTTGTCGGGCTGTGAAAAAGCGGTGCAGGTAAAAGTGAAAGCTCTGCCTGATGCCCAGTTCGAAGTGGTTCATTCACTGGCGAAGTGGAAACGTCAGACCTTAGGGCAACACGACTTCAGCGCGGGCGAAGGGCTGTACACGCACATGAAAGCCCTTCGCCCCGATGAAGACCGTCTTTCTCCGTTGCACTCGGTCTATGTTGACCAGTGGGACTGGGAACGCGTAATGGGCGACGGTGAGCGTCAATTCTCGACTCTGAAAAGCACGGTAGAGGCGATCTGGGCGGGAATTAAAGCAACCGAAGCTGCGGTTAGCGAAGAGTTTGGCCTGGCACCGTTCCTGCCGGATCAGATCCACTTCGTACACAGCCAGGAGTTACTGTCTCGTTATCCGGATCTTGATGCCAAAGGGCGTGAGCGGGCGATAGCGAAAGATCTTGGCGCGGTATTCCTTGTCGGGATTGGCGGCAAGCTGAGCGATGGTCATCGCCACGACGTGCGCGCACCGGATTATGATGACTGGAGCACCCCGTCAGAGCTGGGCCATGCGGGTCTGAACGGCGATATTCTGGTGTGGAACCCGGTACTGGAAGATGCGTTTGAGCTTTCCTCCATGGGGATCCGTGTAGATGCCGACACGCTGAAGCATCAACTGGCGCTGACCGGTGACGAAGATCGCCTGG\"\n",
    "motifs_consensus(regions_dinteret)\n"
   ]
  }
 ],
 "metadata": {
  "kernelspec": {
   "display_name": "base",
   "language": "python",
   "name": "python3"
  },
  "language_info": {
   "codemirror_mode": {
    "name": "ipython",
    "version": 3
   },
   "file_extension": ".py",
   "mimetype": "text/x-python",
   "name": "python",
   "nbconvert_exporter": "python",
   "pygments_lexer": "ipython3",
   "version": "3.11.4"
  }
 },
 "nbformat": 4,
 "nbformat_minor": 5
}
